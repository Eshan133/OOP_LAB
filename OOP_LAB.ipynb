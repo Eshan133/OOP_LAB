{
  "nbformat": 4,
  "nbformat_minor": 0,
  "metadata": {
    "colab": {
      "provenance": [],
      "toc_visible": true,
      "include_colab_link": true
    },
    "kernelspec": {
      "name": "python3",
      "display_name": "Python 3"
    },
    "language_info": {
      "name": "python"
    }
  },
  "cells": [
    {
      "cell_type": "markdown",
      "metadata": {
        "id": "view-in-github",
        "colab_type": "text"
      },
      "source": [
        "<a href=\"https://colab.research.google.com/github/Eshan133/OOP_LAB/blob/main/OOP_LAB.ipynb\" target=\"_parent\"><img src=\"https://colab.research.google.com/assets/colab-badge.svg\" alt=\"Open In Colab\"/></a>"
      ]
    },
    {
      "cell_type": "markdown",
      "source": [
        "# **A university has different types of faculty members. Create a Java program demonstrating method overriding (runtime polymorphism) and method overloading (compile-time polymorphism) with the following structure:**\n",
        "\n",
        "----\n",
        "- **Superclass: Faculty**\n",
        "    Attributes:\n",
        "        name (String)\n",
        "        facultyID (String)\n",
        "    Methods:\n",
        "        displayInfo(): Prints faculty details (Overridden in subclasses)\n",
        "        displayInfo(String department): Overloaded method that also prints department details\n",
        "----\n",
        "- **Subclasses:**\n",
        "    Staff: Inherits from Faculty, adds:\n",
        "        role (String)\n",
        "        Overrides displayInfo()\n",
        "    FullTimeFaculty: Inherits from Faculty, adds:\n",
        "        salary (double)\n",
        "        Overrides displayInfo()\n",
        "    Lecturer: Inherits from Faculty, adds:\n",
        "        course (String)\n",
        "        Overrides displayInfo()\n",
        "----\n",
        "\n",
        "- **In the `main()` method:**\n",
        "  - Use an array of Faculty objects to demonstrate polymorphism.\n",
        "  - Assign values dynamically and store different subclass objects in the array.\n",
        "  - Call `displayInfo()` for each faculty member to demonstrate runtime polymorphism.\n",
        "  - Demonstrate method overloading by calling `displayInfo(String department)` with department details.\n",
        "----\n",
        "\n",
        "1. Faculty Name: Rukesh Shrestha  \n",
        "Faculty ID: F001  \n",
        "Role: Staff  \n",
        "\n",
        "2. Faculty Name: Raj Maharjan  \n",
        "Faculty ID: F002  \n",
        "Salary: Rs. 25000  \n",
        "\n",
        "3. Faculty Name: Nabeen Aryal  \n",
        "Faculty ID: F003  \n",
        "Course: Operating System  \n",
        "\n",
        "4. Faculty Name: Raj Maharjan  \n",
        "Faculty ID: F002  \n",
        "Department: Computer Science\n",
        "Salary: Rs. 25000"
      ],
      "metadata": {
        "id": "tMsryuepWkLN"
      }
    },
    {
      "cell_type": "code",
      "source": [],
      "metadata": {
        "id": "7fnuhHzvWlWS"
      },
      "execution_count": null,
      "outputs": []
    }
  ]
}